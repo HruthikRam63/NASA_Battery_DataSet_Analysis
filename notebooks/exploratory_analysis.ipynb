{
 "cells": [
  {
   "cell_type": "code",
   "execution_count": 40,
   "metadata": {},
   "outputs": [
    {
     "data": {
      "text/html": [
       "        <script type=\"text/javascript\">\n",
       "        window.PlotlyConfig = {MathJaxConfig: 'local'};\n",
       "        if (window.MathJax && window.MathJax.Hub && window.MathJax.Hub.Config) {window.MathJax.Hub.Config({SVG: {font: \"STIX-Web\"}});}\n",
       "        if (typeof require !== 'undefined') {\n",
       "        require.undef(\"plotly\");\n",
       "        requirejs.config({\n",
       "            paths: {\n",
       "                'plotly': ['https://cdn.plot.ly/plotly-2.35.2.min']\n",
       "            }\n",
       "        });\n",
       "        require(['plotly'], function(Plotly) {\n",
       "            window._Plotly = Plotly;\n",
       "        });\n",
       "        }\n",
       "        </script>\n",
       "        "
      ]
     },
     "metadata": {},
     "output_type": "display_data"
    }
   ],
   "source": [
    "# Import necessary libraries\n",
    "import os\n",
    "import pandas as pd\n",
    "import matplotlib.pyplot as plt\n",
    "import seaborn as sns\n",
    "import plotly.express as px\n",
    "import plotly.graph_objects as go\n",
    "from plotly.offline import init_notebook_mode, iplot\n",
    "\n",
    "# Initialize Plotly in notebook mode\n",
    "init_notebook_mode(connected=True)"
   ]
  },
  {
   "cell_type": "code",
   "execution_count": null,
   "metadata": {},
   "outputs": [],
   "source": [
    "# Define paths\n",
    "DATA_DIR = \"C:/Users/hruth/Music/Projects/nasa_battery_analysis/data/cleaned_dataset\"\n",
    "METADATA_FILE = \"C:/Users/hruth/Music/Projects/nasa_battery_analysis/data/metadata.csv\""
   ]
  },
  {
   "cell_type": "code",
   "execution_count": 25,
   "metadata": {},
   "outputs": [
    {
     "name": "stdout",
     "output_type": "stream",
     "text": [
      "Metadata Columns:\n",
      "Index(['type', 'start_time', 'ambient_temperature', 'battery_id', 'test_id',\n",
      "       'uid', 'filename', 'Capacity', 'Re', 'Rct'],\n",
      "      dtype='object')\n"
     ]
    },
    {
     "data": {
      "text/html": [
       "<div>\n",
       "<style scoped>\n",
       "    .dataframe tbody tr th:only-of-type {\n",
       "        vertical-align: middle;\n",
       "    }\n",
       "\n",
       "    .dataframe tbody tr th {\n",
       "        vertical-align: top;\n",
       "    }\n",
       "\n",
       "    .dataframe thead th {\n",
       "        text-align: right;\n",
       "    }\n",
       "</style>\n",
       "<table border=\"1\" class=\"dataframe\">\n",
       "  <thead>\n",
       "    <tr style=\"text-align: right;\">\n",
       "      <th></th>\n",
       "      <th>type</th>\n",
       "      <th>start_time</th>\n",
       "      <th>ambient_temperature</th>\n",
       "      <th>battery_id</th>\n",
       "      <th>test_id</th>\n",
       "      <th>uid</th>\n",
       "      <th>filename</th>\n",
       "      <th>Capacity</th>\n",
       "      <th>Re</th>\n",
       "      <th>Rct</th>\n",
       "    </tr>\n",
       "  </thead>\n",
       "  <tbody>\n",
       "    <tr>\n",
       "      <th>0</th>\n",
       "      <td>discharge</td>\n",
       "      <td>[2010.       7.      21.      15.       0.    ...</td>\n",
       "      <td>4</td>\n",
       "      <td>B0047</td>\n",
       "      <td>0</td>\n",
       "      <td>1</td>\n",
       "      <td>00001.csv</td>\n",
       "      <td>1.6743047446975208</td>\n",
       "      <td>NaN</td>\n",
       "      <td>NaN</td>\n",
       "    </tr>\n",
       "    <tr>\n",
       "      <th>1</th>\n",
       "      <td>impedance</td>\n",
       "      <td>[2010.       7.      21.      16.      53.    ...</td>\n",
       "      <td>24</td>\n",
       "      <td>B0047</td>\n",
       "      <td>1</td>\n",
       "      <td>2</td>\n",
       "      <td>00002.csv</td>\n",
       "      <td>NaN</td>\n",
       "      <td>0.05605783343888099</td>\n",
       "      <td>0.20097016584458333</td>\n",
       "    </tr>\n",
       "    <tr>\n",
       "      <th>2</th>\n",
       "      <td>charge</td>\n",
       "      <td>[2010.       7.      21.      17.      25.    ...</td>\n",
       "      <td>4</td>\n",
       "      <td>B0047</td>\n",
       "      <td>2</td>\n",
       "      <td>3</td>\n",
       "      <td>00003.csv</td>\n",
       "      <td>NaN</td>\n",
       "      <td>NaN</td>\n",
       "      <td>NaN</td>\n",
       "    </tr>\n",
       "    <tr>\n",
       "      <th>3</th>\n",
       "      <td>impedance</td>\n",
       "      <td>[2010    7   21   20   31    5]</td>\n",
       "      <td>24</td>\n",
       "      <td>B0047</td>\n",
       "      <td>3</td>\n",
       "      <td>4</td>\n",
       "      <td>00004.csv</td>\n",
       "      <td>NaN</td>\n",
       "      <td>0.05319185850921101</td>\n",
       "      <td>0.16473399914864734</td>\n",
       "    </tr>\n",
       "    <tr>\n",
       "      <th>4</th>\n",
       "      <td>discharge</td>\n",
       "      <td>[2.0100e+03 7.0000e+00 2.1000e+01 2.1000e+01 2...</td>\n",
       "      <td>4</td>\n",
       "      <td>B0047</td>\n",
       "      <td>4</td>\n",
       "      <td>5</td>\n",
       "      <td>00005.csv</td>\n",
       "      <td>1.5243662105099023</td>\n",
       "      <td>NaN</td>\n",
       "      <td>NaN</td>\n",
       "    </tr>\n",
       "  </tbody>\n",
       "</table>\n",
       "</div>"
      ],
      "text/plain": [
       "        type                                         start_time  \\\n",
       "0  discharge  [2010.       7.      21.      15.       0.    ...   \n",
       "1  impedance  [2010.       7.      21.      16.      53.    ...   \n",
       "2     charge  [2010.       7.      21.      17.      25.    ...   \n",
       "3  impedance                    [2010    7   21   20   31    5]   \n",
       "4  discharge  [2.0100e+03 7.0000e+00 2.1000e+01 2.1000e+01 2...   \n",
       "\n",
       "   ambient_temperature battery_id  test_id  uid   filename  \\\n",
       "0                    4      B0047        0    1  00001.csv   \n",
       "1                   24      B0047        1    2  00002.csv   \n",
       "2                    4      B0047        2    3  00003.csv   \n",
       "3                   24      B0047        3    4  00004.csv   \n",
       "4                    4      B0047        4    5  00005.csv   \n",
       "\n",
       "             Capacity                   Re                  Rct  \n",
       "0  1.6743047446975208                  NaN                  NaN  \n",
       "1                 NaN  0.05605783343888099  0.20097016584458333  \n",
       "2                 NaN                  NaN                  NaN  \n",
       "3                 NaN  0.05319185850921101  0.16473399914864734  \n",
       "4  1.5243662105099023                  NaN                  NaN  "
      ]
     },
     "execution_count": 25,
     "metadata": {},
     "output_type": "execute_result"
    }
   ],
   "source": [
    "# Step 1: Load metadata\n",
    "metadata = pd.read_csv(METADATA_FILE)\n",
    "print(\"Metadata Columns:\")\n",
    "print(metadata.columns)\n",
    "metadata.head()"
   ]
  },
  {
   "cell_type": "code",
   "execution_count": 26,
   "metadata": {},
   "outputs": [
    {
     "data": {
      "text/html": [
       "<div>\n",
       "<style scoped>\n",
       "    .dataframe tbody tr th:only-of-type {\n",
       "        vertical-align: middle;\n",
       "    }\n",
       "\n",
       "    .dataframe tbody tr th {\n",
       "        vertical-align: top;\n",
       "    }\n",
       "\n",
       "    .dataframe thead th {\n",
       "        text-align: right;\n",
       "    }\n",
       "</style>\n",
       "<table border=\"1\" class=\"dataframe\">\n",
       "  <thead>\n",
       "    <tr style=\"text-align: right;\">\n",
       "      <th></th>\n",
       "      <th>ambient_temperature</th>\n",
       "      <th>test_id</th>\n",
       "      <th>uid</th>\n",
       "    </tr>\n",
       "  </thead>\n",
       "  <tbody>\n",
       "    <tr>\n",
       "      <th>count</th>\n",
       "      <td>7565.000000</td>\n",
       "      <td>7565.000000</td>\n",
       "      <td>7565.000000</td>\n",
       "    </tr>\n",
       "    <tr>\n",
       "      <th>mean</th>\n",
       "      <td>20.017713</td>\n",
       "      <td>176.012558</td>\n",
       "      <td>3783.000000</td>\n",
       "    </tr>\n",
       "    <tr>\n",
       "      <th>std</th>\n",
       "      <td>11.082914</td>\n",
       "      <td>152.174147</td>\n",
       "      <td>2183.971726</td>\n",
       "    </tr>\n",
       "    <tr>\n",
       "      <th>min</th>\n",
       "      <td>4.000000</td>\n",
       "      <td>0.000000</td>\n",
       "      <td>1.000000</td>\n",
       "    </tr>\n",
       "    <tr>\n",
       "      <th>25%</th>\n",
       "      <td>4.000000</td>\n",
       "      <td>55.000000</td>\n",
       "      <td>1892.000000</td>\n",
       "    </tr>\n",
       "    <tr>\n",
       "      <th>50%</th>\n",
       "      <td>24.000000</td>\n",
       "      <td>129.000000</td>\n",
       "      <td>3783.000000</td>\n",
       "    </tr>\n",
       "    <tr>\n",
       "      <th>75%</th>\n",
       "      <td>24.000000</td>\n",
       "      <td>255.000000</td>\n",
       "      <td>5674.000000</td>\n",
       "    </tr>\n",
       "    <tr>\n",
       "      <th>max</th>\n",
       "      <td>44.000000</td>\n",
       "      <td>615.000000</td>\n",
       "      <td>7565.000000</td>\n",
       "    </tr>\n",
       "  </tbody>\n",
       "</table>\n",
       "</div>"
      ],
      "text/plain": [
       "       ambient_temperature      test_id          uid\n",
       "count          7565.000000  7565.000000  7565.000000\n",
       "mean             20.017713   176.012558  3783.000000\n",
       "std              11.082914   152.174147  2183.971726\n",
       "min               4.000000     0.000000     1.000000\n",
       "25%               4.000000    55.000000  1892.000000\n",
       "50%              24.000000   129.000000  3783.000000\n",
       "75%              24.000000   255.000000  5674.000000\n",
       "max              44.000000   615.000000  7565.000000"
      ]
     },
     "execution_count": 26,
     "metadata": {},
     "output_type": "execute_result"
    }
   ],
   "source": [
    "# Step 2: Inspect metadata statistics\n",
    "metadata.describe()"
   ]
  },
  {
   "cell_type": "code",
   "execution_count": null,
   "metadata": {},
   "outputs": [],
   "source": [
    "# Step 3: Load and explore a sample CSV file\n",
    "sample_file = os.path.join(DATA_DIR, os.listdir(DATA_DIR)[0])\n",
    "sample_data = pd.read_csv(sample_file)"
   ]
  },
  {
   "cell_type": "code",
   "execution_count": 28,
   "metadata": {},
   "outputs": [
    {
     "name": "stdout",
     "output_type": "stream",
     "text": [
      "Sample CSV File Columns:\n",
      "Index(['Voltage_measured', 'Current_measured', 'Temperature_measured',\n",
      "       'Current_load', 'Voltage_load', 'Time'],\n",
      "      dtype='object')\n"
     ]
    },
    {
     "data": {
      "text/html": [
       "<div>\n",
       "<style scoped>\n",
       "    .dataframe tbody tr th:only-of-type {\n",
       "        vertical-align: middle;\n",
       "    }\n",
       "\n",
       "    .dataframe tbody tr th {\n",
       "        vertical-align: top;\n",
       "    }\n",
       "\n",
       "    .dataframe thead th {\n",
       "        text-align: right;\n",
       "    }\n",
       "</style>\n",
       "<table border=\"1\" class=\"dataframe\">\n",
       "  <thead>\n",
       "    <tr style=\"text-align: right;\">\n",
       "      <th></th>\n",
       "      <th>Voltage_measured</th>\n",
       "      <th>Current_measured</th>\n",
       "      <th>Temperature_measured</th>\n",
       "      <th>Current_load</th>\n",
       "      <th>Voltage_load</th>\n",
       "      <th>Time</th>\n",
       "    </tr>\n",
       "  </thead>\n",
       "  <tbody>\n",
       "    <tr>\n",
       "      <th>0</th>\n",
       "      <td>4.246711</td>\n",
       "      <td>0.000252</td>\n",
       "      <td>6.212696</td>\n",
       "      <td>0.0002</td>\n",
       "      <td>0.000</td>\n",
       "      <td>0.000</td>\n",
       "    </tr>\n",
       "    <tr>\n",
       "      <th>1</th>\n",
       "      <td>4.246764</td>\n",
       "      <td>-0.001411</td>\n",
       "      <td>6.234019</td>\n",
       "      <td>0.0002</td>\n",
       "      <td>4.262</td>\n",
       "      <td>9.360</td>\n",
       "    </tr>\n",
       "    <tr>\n",
       "      <th>2</th>\n",
       "      <td>4.039277</td>\n",
       "      <td>-0.995093</td>\n",
       "      <td>6.250255</td>\n",
       "      <td>1.0000</td>\n",
       "      <td>3.465</td>\n",
       "      <td>23.281</td>\n",
       "    </tr>\n",
       "    <tr>\n",
       "      <th>3</th>\n",
       "      <td>4.019506</td>\n",
       "      <td>-0.996731</td>\n",
       "      <td>6.302176</td>\n",
       "      <td>1.0000</td>\n",
       "      <td>3.451</td>\n",
       "      <td>36.406</td>\n",
       "    </tr>\n",
       "    <tr>\n",
       "      <th>4</th>\n",
       "      <td>4.004763</td>\n",
       "      <td>-0.992845</td>\n",
       "      <td>6.361645</td>\n",
       "      <td>1.0000</td>\n",
       "      <td>3.438</td>\n",
       "      <td>49.625</td>\n",
       "    </tr>\n",
       "  </tbody>\n",
       "</table>\n",
       "</div>"
      ],
      "text/plain": [
       "   Voltage_measured  Current_measured  Temperature_measured  Current_load  \\\n",
       "0          4.246711          0.000252              6.212696        0.0002   \n",
       "1          4.246764         -0.001411              6.234019        0.0002   \n",
       "2          4.039277         -0.995093              6.250255        1.0000   \n",
       "3          4.019506         -0.996731              6.302176        1.0000   \n",
       "4          4.004763         -0.992845              6.361645        1.0000   \n",
       "\n",
       "   Voltage_load    Time  \n",
       "0         0.000   0.000  \n",
       "1         4.262   9.360  \n",
       "2         3.465  23.281  \n",
       "3         3.451  36.406  \n",
       "4         3.438  49.625  "
      ]
     },
     "execution_count": 28,
     "metadata": {},
     "output_type": "execute_result"
    }
   ],
   "source": [
    "print(\"Sample CSV File Columns:\")\n",
    "print(sample_data.columns)\n",
    "sample_data.head()"
   ]
  },
  {
   "cell_type": "code",
   "execution_count": 29,
   "metadata": {},
   "outputs": [
    {
     "data": {
      "image/png": "[encoded data removed]",
      "text/plain": [
       "<Figure size 640x480 with 1 Axes>"
      ]
     },
     "metadata": {},
     "output_type": "display_data"
    }
   ],
   "source": [
    "# Step 4: Analyze metadata attributes\n",
    "sns.histplot(metadata[\"ambient_temperature\"], bins=20, kde=True)\n",
    "plt.title(\"Ambient Temperature Distribution\")\n",
    "plt.xlabel(\"Ambient Temperature (°C)\")\n",
    "plt.ylabel(\"Frequency\")\n",
    "plt.show() # Plot the distribution of ambient temperatures"
   ]
  },
  {
   "cell_type": "code",
   "execution_count": 30,
   "metadata": {},
   "outputs": [
    {
     "data": {
      "image/png": "[encoded data removed]",
      "text/plain": [
       "<Figure size 640x480 with 1 Axes>"
      ]
     },
     "metadata": {},
     "output_type": "display_data"
    }
   ],
   "source": [
    "sns.boxplot(x=\"battery_id\", y=\"Capacity\", data=metadata)\n",
    "plt.title(\"Battery Capacities by Battery ID\")\n",
    "plt.xlabel(\"Battery ID\")\n",
    "plt.ylabel(\"Capacity (Ah)\")\n",
    "plt.show() # Plot battery capacities"
   ]
  },
  {
   "cell_type": "code",
   "execution_count": null,
   "metadata": {},
   "outputs": [],
   "source": [
    "sample_data['Time'] = pd.to_numeric(sample_data['Time'], errors='coerce')\n",
    "sample_data['Voltage_measured'] = pd.to_numeric(sample_data['Voltage_measured'], errors='coerce') # Plot voltage over time"
   ]
  },
  {
   "cell_type": "code",
   "execution_count": 32,
   "metadata": {},
   "outputs": [
    {
     "data": {
      "image/png": "[encoded data removed]",
      "text/plain": [
       "<Figure size 1000x600 with 1 Axes>"
      ]
     },
     "metadata": {},
     "output_type": "display_data"
    }
   ],
   "source": [
    "plt.figure(figsize=(10, 6))\n",
    "sns.lineplot(x=\"Time\", y=\"Voltage_measured\", data=sample_data)\n",
    "plt.title(\"Voltage Measured Over Time (Sample CSV)\")\n",
    "plt.xlabel(\"Time (s)\")\n",
    "plt.ylabel(\"Voltage (V)\")\n",
    "plt.show() # Step 6: Using Plotly for interactive plots"
   ]
  },
  {
   "cell_type": "code",
   "execution_count": 33,
   "metadata": {},
   "outputs": [
    {
     "data": {
      "application/vnd.plotly.v1+json": {
       "config": {
        "plotlyServerURL": "https://plot.ly"
       },
       "data": [
        {
         "hovertemplate": "Time=%{x}<br>Voltage_measured=%{y}<extra></extra>",
         "legendgroup": "",
         "line": {
          "color": "#636efa",
          "dash": "solid"
         },
         "marker": {
          "symbol": "circle"
         },
         "mode": "lines",
         "name": "",
         "orientation": "v",
         "showlegend": false,
         "type": "scatter",
         "x": [
          0,
          9.36,
          23.281,
          36.406,
          49.625,
          62.813,
          75.89099999999999,
          89.031,
          102.141,
          115.297,
          128.438,
          141.578,
          154.719,
          167.813,
          180.906,
          194,
          207.11,
          220.219,
          233.313,
          246.422,
          259.547,
          272.625,
          285.75,
          298.86,
          311.953,
          325.094,
          338.172,
          351.235,
          364.313,
          377.406,
          390.516,
          403.61,
          416.688,
          429.75,
          442.875,
          455.922,
          469.031,
          482.11,
          495.235,
          508.313,
          521.391,
          534.469,
          547.578,
          560.641,
          573.719,
          586.813,
          599.969,
          613.078,
          626.141,
          639.25,
          652.36,
          665.453,
          678.469,
          691.594,
          704.719,
          717.813,
          730.906,
          744,
          757.156,
          770.235,
          783.281,
          796.344,
          809.406,
          822.469,
          835.61,
          848.719,
          861.828,
          874.891,
          887.969,
          901.063,
          914.156,
          927.281,
          940.391,
          953.547,
          966.594,
          979.656,
          992.719,
          1005.828,
          1018.953,
          1032.016,
          1045.078,
          1058.188,
          1071.313,
          1084.406,
          1097.563,
          1110.625,
          1123.703,
          1136.781,
          1149.875,
          1162.985,
          1176.047,
          1189.156,
          1202.235,
          1215.328,
          1228.516,
          1241.625,
          1254.75,
          1267.828,
          1280.875,
          1293.922,
          1307,
          1320.11,
          1333.188,
          1346.328,
          1359.453,
          1372.5,
          1385.578,
          1398.656,
          1411.735,
          1424.875,
          1437.953,
          1451.063,
          1464.203,
          1477.297,
          1490.406,
          1503.531,
          1516.61,
          1529.656,
          1542.797,
          1555.875,
          1568.938,
          1582.016,
          1595.156,
          1608.203,
          1621.313,
          1634.453,
          1647.531,
          1660.61,
          1673.75,
          1686.813,
          1699.875,
          1713,
          1726.11,
          1739.188,
          1752.297,
          1765.438,
          1778.531,
          1791.61,
          1804.766,
          1817.828,
          1830.922,
          1844.078,
          1857.141,
          1870.203,
          1883.391,
          1896.453,
          1909.563,
          1922.625,
          1935.719,
          1948.797,
          1961.922,
          1975.031,
          1988.125,
          2001.219,
          2014.344,
          2027.485,
          2040.594,
          2053.656,
          2066.766,
          2079.922,
          2092.969,
          2106.047,
          2119.219,
          2132.313,
          2145.438,
          2158.531,
          2171.594,
          2184.703,
          2197.766,
          2210.875,
          2223.969,
          2237.047,
          2250.094,
          2263.25,
          2276.391,
          2289.547,
          2302.735,
          2315.781,
          2328.86,
          2341.891,
          2355,
          2368.094,
          2381.172,
          2394.219,
          2407.328,
          2420.438,
          2433.531,
          2446.656,
          2459.797,
          2472.875,
          2485.938,
          2499.11,
          2512.235,
          2525.328,
          2538.453,
          2551.563,
          2564.672,
          2577.719,
          2590.813,
          2603.875,
          2617.063,
          2630.156,
          2643.297,
          2656.375,
          2669.469,
          2682.516,
          2695.625,
          2708.719,
          2721.86,
          2734.953,
          2748.047,
          2761.219,
          2774.328,
          2787.453,
          2800.5,
          2813.578,
          2826.656,
          2839.766,
          2852.891,
          2866,
          2879.141,
          2892.235,
          2905.422,
          2918.625,
          2931.766,
          2944.844,
          2957.938,
          2971.016,
          2984.156,
          2997.266,
          3010.328,
          3023.469,
          3036.547,
          3049.625,
          3062.719,
          3075.875,
          3088.985,
          3102.156,
          3115.328,
          3128.422,
          3141.485,
          3154.594,
          3167.703,
          3180.844,
          3193.969,
          3207.016,
          3220.11,
          3233.188,
          3246.266,
          3259.344,
          3272.485,
          3285.563,
          3298.735,
          3311.828,
          3324.969,
          3338.125,
          3351.266,
          3364.453,
          3377.625,
          3390.797,
          3403.938,
          3417.078,
          3430.219,
          3443.422,
          3456.594,
          3469.719,
          3482.828,
          3495.922,
          3509,
          3522.203,
          3535.344,
          3548.422,
          3561.531,
          3574.625,
          3587.735,
          3600.828,
          3613.922,
          3627.063,
          3640.172,
          3653.281,
          3666.391,
          3679.516,
          3692.656,
          3705.86,
          3718.985,
          3732.094,
          3745.219,
          3758.344,
          3771.516,
          3784.61,
          3797.766,
          3810.891,
          3824,
          3837.11,
          3850.156,
          3863.313,
          3876.406,
          3889.594,
          3902.672,
          3915.766,
          3928.891,
          3941.985,
          3955.047,
          3968.141,
          3981.297,
          3994.406,
          4007.563,
          4020.766,
          4033.875,
          4046.985,
          4060.11,
          4073.266,
          4086.328,
          4099.422,
          4112.61,
          4125.703,
          4138.891,
          4151.938,
          4165.078,
          4178.219,
          4191.344,
          4204.453,
          4217.531,
          4230.641,
          4243.75,
          4256.828,
          4269.875,
          4283.047,
          4296.141,
          4309.235,
          4322.36,
          4335.485,
          4348.625,
          4361.86,
          4375.172,
          4388.438,
          4401.75,
          4414.985,
          4428.266,
          4441.5,
          4454.703,
          4468.016,
          4481.25,
          4494.516,
          4507.719,
          4520.938,
          4534.219,
          4547.578,
          4560.797,
          4574,
          4587.235,
          4600.469,
          4613.719,
          4626.938,
          4640.203,
          4653.469,
          4666.797,
          4679.985,
          4693.266,
          4706.453,
          4719.703,
          4732.953,
          4746.203,
          4759.469,
          4772.719,
          4786,
          4799.25,
          4812.485,
          4825.735,
          4838.922,
          4852.125,
          4865.422,
          4878.672,
          4891.985,
          4905.219,
          4918.453,
          4931.672,
          4944.891,
          4958.125,
          4971.375,
          4984.61,
          4997.844,
          5011.094,
          5024.328,
          5037.61,
          5050.906,
          5064.11,
          5077.328,
          5090.547,
          5103.781,
          5117.031,
          5130.297,
          5143.5,
          5156.735,
          5169.969,
          5183.219,
          5196.516,
          5209.813,
          5223.125,
          5236.344,
          5249.656,
          5262.891,
          5276.141,
          5289.516,
          5302.797,
          5316.078,
          5329.344,
          5342.594,
          5355.844,
          5369.219,
          5382.453,
          5395.688,
          5408.906,
          5422.156,
          5435.391,
          5448.641,
          5461.938,
          5475.172,
          5488.406,
          5501.688,
          5514.953,
          5528.266,
          5541.531,
          5554.766,
          5568.031,
          5581.375,
          5594.594,
          5607.813,
          5621.047,
          5634.297,
          5647.516,
          5660.735,
          5673.969,
          5687.203,
          5700.406,
          5713.688,
          5726.891,
          5740.141,
          5753.344,
          5766.578,
          5779.781,
          5793,
          5806.203,
          5819.438,
          5832.688,
          5845.953,
          5859.25,
          5872.453,
          5885.719,
          5898.938,
          5912.172,
          5925.406,
          5938.672,
          5951.938,
          5965.172,
          5978.375,
          5991.672,
          6004.953,
          6018.36,
          6031.735,
          6045.141,
          6058.5,
          6071.906,
          6085.297,
          6098.656,
          6112.047,
          6125.438,
          6138.875,
          6152.281,
          6165.672,
          6179.11,
          6192.656,
          6206.219,
          6219.719,
          6233.266,
          6246.781,
          6260.313,
          6273.781,
          6287.313,
          6300.797,
          6314.297,
          6327.813,
          6341.297,
          6354.906,
          6368.422,
          6382.063,
          6395.547,
          6409.063,
          6422.625,
          6436.141
         ],
         "xaxis": "x",
         "y": [
          4.246711253516259,
          4.246764125510136,
          4.039277018171289,
          4.019506433278611,
          4.004763260680274,
          3.992862708424408,
          3.982346795099297,
          3.9724578113821183,
          3.9637400413432737,
          3.955432272676673,
          3.947905974663914,
          3.940774900997409,
          3.933846618548325,
          3.9273923546175737,
          3.9211979790578178,
          3.915208326950005,
          3.909650115868643,
          3.904190136270511,
          3.898996130971163,
          3.893760440969397,
          3.888806462195429,
          3.884369300425002,
          3.880096698887316,
          3.876255755266973,
          3.872645902645617,
          3.86915800564983,
          3.866015371350042,
          3.862977664836382,
          3.860406957457223,
          3.8574103612896185,
          3.854711367313613,
          3.8520056988643434,
          3.8496045007296327,
          3.847234477772906,
          3.845001919852917,
          3.8427341381590816,
          3.840625625758544,
          3.838447188776546,
          3.8364523101357952,
          3.834430074367508,
          3.83230302104837,
          3.830475960945287,
          3.828399404399783,
          3.826609993022845,
          3.8246024143409474,
          3.822756320577678,
          3.820908790985978,
          3.8190957665514342,
          3.817283113195826,
          3.8152641791490463,
          3.813663784877481,
          3.81170310005412,
          3.809907427192365,
          3.807906799195623,
          3.80611910722536,
          3.804180801826383,
          3.8023697972773256,
          3.800441005029772,
          3.7986093978653774,
          3.79659838519063,
          3.7946730296337594,
          3.792815863957842,
          3.790841614490357,
          3.788828703999225,
          3.786995486891371,
          3.7848459916565207,
          3.782873708848514,
          3.780848583730336,
          3.7786938098152176,
          3.776683536613519,
          3.774582179077702,
          3.7723544104300206,
          3.770197215335677,
          3.768093671387777,
          3.765989332306821,
          3.763990340041013,
          3.761961219652712,
          3.759717367935965,
          3.7577617225027766,
          3.755571558674588,
          3.753607860770124,
          3.7512886322023578,
          3.749279095316093,
          3.747002790845624,
          3.7451682874208494,
          3.7431259403945343,
          3.741237509626041,
          3.7390344660326815,
          3.73706685877336,
          3.735033527196567,
          3.7332197371324503,
          3.731363881145008,
          3.729264025285725,
          3.727398530118085,
          3.725568492865293,
          3.723618680964378,
          3.722012687914933,
          3.7200796422062696,
          3.718112634927389,
          3.7161106537969233,
          3.7138357695796183,
          3.711580109590676,
          3.7088908306616175,
          3.7064322799997726,
          3.703725927720317,
          3.701009577429229,
          3.6983343324213207,
          3.695348869714776,
          3.6925543600194906,
          3.6896750027953114,
          3.686627722343095,
          3.6835363226306255,
          3.680597147005636,
          3.6777047804044383,
          3.674728270103477,
          3.6719717756443,
          3.669325574508143,
          3.6668803845007294,
          3.664589876961532,
          3.66259404193973,
          3.6604347136435247,
          3.65856435956502,
          3.656421312553391,
          3.654683097722957,
          3.65284206815776,
          3.65082376795281,
          3.649270669325941,
          3.6473633335840794,
          3.645829033787948,
          3.643899999619585,
          3.642440899706927,
          3.640786936254487,
          3.639262890456272,
          3.637602989212976,
          3.636199151010372,
          3.634581903513346,
          3.633074472384529,
          3.631587442617661,
          3.630157402732151,
          3.6289464601105217,
          3.627445259568148,
          3.625995843944692,
          3.6247964335111935,
          3.623276523942319,
          3.621871006451532,
          3.620455027114583,
          3.61933439182665,
          3.617924650547357,
          3.616557328054139,
          3.615108029741642,
          3.614014441750432,
          3.612673145207526,
          3.611472207668035,
          3.610250883716974,
          3.608846264157264,
          3.607704541232534,
          3.606397898777781,
          3.605120792369809,
          3.60394870804158,
          3.6027942540656963,
          3.6015579118413616,
          3.6003471487832583,
          3.5990794720698536,
          3.597894442689749,
          3.5966577933114543,
          3.595464034092617,
          3.594305011457668,
          3.593076820352917,
          3.59202884130152,
          3.5907605470370214,
          3.589696952364418,
          3.588587503865808,
          3.587371044630705,
          3.586210110146122,
          3.585018791582806,
          3.5840171601947794,
          3.582869298325823,
          3.5817176068238727,
          3.5805678869158437,
          3.579407215339581,
          3.578299102918556,
          3.577290689746073,
          3.576158693517963,
          3.5750493466998514,
          3.5739879568534088,
          3.5729478836086157,
          3.5718299798606488,
          3.5709170125543466,
          3.56961228207256,
          3.568617068622861,
          3.5675438453435997,
          3.566512650570572,
          3.565596382904656,
          3.564504287068038,
          3.5634754003444336,
          3.5622786555168515,
          3.5607924718680453,
          3.5592836865405264,
          3.557413298793106,
          3.555665005059582,
          3.553695453592202,
          3.5516709298242195,
          3.549415616584612,
          3.5474512191230727,
          3.5452697780172837,
          3.542892532954708,
          3.5405729647023354,
          3.5383409868687274,
          3.536107816232528,
          3.5335907686149874,
          3.5314136887730534,
          3.529023985739061,
          3.5267368568115853,
          3.524721027667165,
          3.522720675532665,
          3.52117817983667,
          3.5194927906893407,
          3.5181327978753525,
          3.516606148816905,
          3.5152393052882887,
          3.5140180160644707,
          3.512733621117712,
          3.5116032930049923,
          3.510676901411592,
          3.5094138198142018,
          3.508582448774273,
          3.507498912074538,
          3.5064281400654997,
          3.505334425369491,
          3.50454778435222,
          3.503598149937573,
          3.502804920612841,
          3.501878730015512,
          3.5009717821303985,
          3.500140524791773,
          3.499212874266527,
          3.498516477412692,
          3.4977376120597645,
          3.4967819465700187,
          3.495946248401124,
          3.495189490388214,
          3.4945290642245936,
          3.4936696980341746,
          3.4930367673667986,
          3.4923282264992834,
          3.491563543275591,
          3.490625992098114,
          3.489994490717841,
          3.489338763592346,
          3.488657802959221,
          3.48789001240067,
          3.4873508254141408,
          3.486454599160414,
          3.485661118821138,
          3.4850219534636984,
          3.4844773236979867,
          3.483561937366954,
          3.482921879953037,
          3.4823155874943046,
          3.481453243996021,
          3.4808453458110025,
          3.4801043082920016,
          3.4793074004689597,
          3.478656756818986,
          3.477944507632085,
          3.4772719953898124,
          3.476484234837369,
          3.475748716014138,
          3.475040538221428,
          3.474287621471171,
          3.4734669648867538,
          3.4727372610211558,
          3.47201976831521,
          3.4711978181913232,
          3.47047078317791,
          3.4696718442479586,
          3.469000094167255,
          3.468181682116456,
          3.467381299158696,
          3.466777146732966,
          3.4660081456818514,
          3.4651119040439964,
          3.464497433780131,
          3.4635684232925383,
          3.462814187423905,
          3.46214272530203,
          3.461267940764716,
          3.460682395050646,
          3.459682485501857,
          3.458877155773463,
          3.4580147374837664,
          3.4573000229394704,
          3.4566167493283446,
          3.455509500892453,
          3.4539955948600243,
          3.4525420711144035,
          3.4509984052771165,
          3.448951191408298,
          3.4470970180059584,
          3.4450427756993656,
          3.4427543858853493,
          3.440375142090238,
          3.4380614221175554,
          3.4356726107968094,
          3.4330946414015693,
          3.430388257696568,
          3.427816729775609,
          3.425110724059222,
          3.4223248761751544,
          3.42006992488101,
          3.41772003959307,
          3.415780176838776,
          3.413945844738231,
          3.4121715512764936,
          3.410371586679501,
          3.408821521105736,
          3.407045141687982,
          3.405573829801681,
          3.403963245374781,
          3.4026995297336065,
          3.4012288499984384,
          3.399836975056,
          3.398648428300032,
          3.397529930396105,
          3.3962164086861817,
          3.394770379004634,
          3.393724948549766,
          3.392274523561809,
          3.39111672593359,
          3.3899532946402653,
          3.3883933066016403,
          3.3875257672228245,
          3.386219477067292,
          3.384998748354783,
          3.383618764190488,
          3.3824072513729484,
          3.381262884828034,
          3.380052322554357,
          3.378846937531732,
          3.377598277915228,
          3.376300113346357,
          3.3750639655760013,
          3.373951183523049,
          3.3726802546067054,
          3.3713763263024044,
          3.3700680129198,
          3.368914752833561,
          3.367606248720394,
          3.366343440698901,
          3.3648625929538123,
          3.3634073849939106,
          3.362040166337937,
          3.3606768344867635,
          3.359175580050265,
          3.357687888333479,
          3.356351454057462,
          3.354768698040336,
          3.353080488901673,
          3.351539152173533,
          3.3501445709661226,
          3.348511807720953,
          3.346940626537693,
          3.345402952182305,
          3.343717506023549,
          3.3419918970059226,
          3.340198563060068,
          3.338223209606903,
          3.3365835345759205,
          3.335109499518284,
          3.333191516863278,
          3.331479794454772,
          3.329512307229761,
          3.3275279192582565,
          3.325828116597998,
          3.3238964650887235,
          3.3216836950110897,
          3.3196939591176795,
          3.31758091531066,
          3.3154325890115723,
          3.313360051140094,
          3.311165032975942,
          3.308974471473522,
          3.306806549355666,
          3.304466427881505,
          3.3022418939529774,
          3.299827992975363,
          3.297457816243593,
          3.2946615178424774,
          3.2915688058630304,
          3.287957250700658,
          3.284197374401378,
          3.2799764115244545,
          3.275737954171668,
          3.2709358839556115,
          3.2661698943161435,
          3.261299135939609,
          3.2559893616058466,
          3.250608240759355,
          3.244985479757389,
          3.239320278207168,
          3.2335001156461747,
          3.2276694558380865,
          3.221682761826305,
          3.216138187725933,
          3.210649741962537,
          3.2054349879960062,
          3.20029199028384,
          3.195219948100102,
          3.190259609219229,
          3.1850816758708627,
          3.1801293618675808,
          3.175236869422581,
          3.1704853408425357,
          3.1654282724755256,
          3.1603680933530773,
          3.155139981910372,
          3.149965619193311,
          3.1448203538931594,
          3.139252195094655,
          3.1339874700643064,
          3.128410378384067,
          3.122950251416708,
          3.117213574056475,
          3.1115121467583324,
          3.1054193111437853,
          3.099286633745663,
          3.093125123641961,
          3.086741856287959,
          3.0803739270748363,
          3.0738057209079237,
          3.066985494143711,
          3.060191477019926,
          3.053148253866842,
          3.046044672259406,
          3.0384601146961097,
          3.031002859512311,
          3.023111709252777,
          3.015191693115315,
          3.007012012788133,
          2.998243877368653,
          2.98975859945416,
          2.9805995441728186,
          2.971227655824078,
          2.9615583985163454,
          2.9515542662640546,
          2.9413454877307394,
          2.930887417486187,
          2.919961192798961,
          2.908525386260133,
          2.8966305842345883,
          2.88431862610664,
          2.871468347292039,
          2.858615404157315,
          2.8446134055961525,
          2.8304173356014126,
          2.815465595690097,
          2.8000501106517506,
          2.7837035991367194,
          2.7665057088116223,
          2.7486582443839778,
          2.729931966923743,
          2.710132038595064,
          2.689299531209884,
          2.667439028940069,
          2.6440673622686925,
          2.619395340593058,
          2.593520084646253,
          2.5656125249554345,
          2.536252808380642,
          2.5046693818677896,
          2.470611866932728,
          2.942942295533995,
          3.050193702611824,
          3.1009749147863395,
          3.1368929085286044,
          3.165273105267426,
          3.1887276469994426,
          3.2089500307053105,
          3.2263900807381574,
          3.2415803806092183,
          3.2546672739968203,
          3.2663164239224387,
          3.2769597512712325,
          3.286418164397646,
          3.2951675537404728,
          3.303251450052504,
          3.310303420220758,
          3.317351265801437,
          3.323386670984553,
          3.329356483961897
         ],
         "yaxis": "y"
        }
       ],
       "layout": {
        "legend": {
         "tracegroupgap": 0
        },
        "template": {
         "data": {
          "bar": [
           {
            "error_x": {
             "color": "#2a3f5f"
            },
            "error_y": {
             "color": "#2a3f5f"
            },
            "marker": {
             "line": {
              "color": "#E5ECF6",
              "width": 0.5
             },
             "pattern": {
              "fillmode": "overlay",
              "size": 10,
              "solidity": 0.2
             }
            },
            "type": "bar"
           }
          ],
          "barpolar": [
           {
            "marker": {
             "line": {
              "color": "#E5ECF6",
              "width": 0.5
             },
             "pattern": {
              "fillmode": "overlay",
              "size": 10,
              "solidity": 0.2
             }
            },
            "type": "barpolar"
           }
          ],
          "carpet": [
           {
            "aaxis": {
             "endlinecolor": "#2a3f5f",
             "gridcolor": "white",
             "linecolor": "white",
             "minorgridcolor": "white",
             "startlinecolor": "#2a3f5f"
            },
            "baxis": {
             "endlinecolor": "#2a3f5f",
             "gridcolor": "white",
             "linecolor": "white",
             "minorgridcolor": "white",
             "startlinecolor": "#2a3f5f"
            },
            "type": "carpet"
           }
          ],
          "choropleth": [
           {
            "colorbar": {
             "outlinewidth": 0,
             "ticks": ""
            },
            "type": "choropleth"
           }
          ],
          "contour": [
           {
            "colorbar": {
             "outlinewidth": 0,
             "ticks": ""
            },
            "colorscale": [
             [
              0,
              "#0d0887"
             ],
             [
              0.1111111111111111,
              "#46039f"
             ],
             [
              0.2222222222222222,
              "#7201a8"
             ],
             [
              0.3333333333333333,
              "#9c179e"
             ],
             [
              0.4444444444444444,
              "#bd3786"
             ],
             [
              0.5555555555555556,
              "#d8576b"
             ],
             [
              0.6666666666666666,
              "#ed7953"
             ],
             [
              0.7777777777777778,
              "#fb9f3a"
             ],
             [
              0.8888888888888888,
              "#fdca26"
             ],
             [
              1,
              "#f0f921"
             ]
            ],
            "type": "contour"
           }
          ],
          "contourcarpet": [
           {
            "colorbar": {
             "outlinewidth": 0,
             "ticks": ""
            },
            "type": "contourcarpet"
           }
          ],
          "heatmap": [
           {
            "colorbar": {
             "outlinewidth": 0,
             "ticks": ""
            },
            "colorscale": [
             [
              0,
              "#0d0887"
             ],
             [
              0.1111111111111111,
              "#46039f"
             ],
             [
              0.2222222222222222,
              "#7201a8"
             ],
             [
              0.3333333333333333,
              "#9c179e"
             ],
             [
              0.4444444444444444,
              "#bd3786"
             ],
             [
              0.5555555555555556,
              "#d8576b"
             ],
             [
              0.6666666666666666,
              "#ed7953"
             ],
             [
              0.7777777777777778,
              "#fb9f3a"
             ],
             [
              0.8888888888888888,
              "#fdca26"
             ],
             [
              1,
              "#f0f921"
             ]
            ],
            "type": "heatmap"
           }
          ],
          "heatmapgl": [
           {
            "colorbar": {
             "outlinewidth": 0,
             "ticks": ""
            },
            "colorscale": [
             [
              0,
              "#0d0887"
             ],
             [
              0.1111111111111111,
              "#46039f"
             ],
             [
              0.2222222222222222,
              "#7201a8"
             ],
             [
              0.3333333333333333,
              "#9c179e"
             ],
             [
              0.4444444444444444,
              "#bd3786"
             ],
             [
              0.5555555555555556,
              "#d8576b"
             ],
             [
              0.6666666666666666,
              "#ed7953"
             ],
             [
              0.7777777777777778,
              "#fb9f3a"
             ],
             [
              0.8888888888888888,
              "#fdca26"
             ],
             [
              1,
              "#f0f921"
             ]
            ],
            "type": "heatmapgl"
           }
          ],
          "histogram": [
           {
            "marker": {
             "pattern": {
              "fillmode": "overlay",
              "size": 10,
              "solidity": 0.2
             }
            },
            "type": "histogram"
           }
          ],
          "histogram2d": [
           {
            "colorbar": {
             "outlinewidth": 0,
             "ticks": ""
            },
            "colorscale": [
             [
              0,
              "#0d0887"
             ],
             [
              0.1111111111111111,
              "#46039f"
             ],
             [
              0.2222222222222222,
              "#7201a8"
             ],
             [
              0.3333333333333333,
              "#9c179e"
             ],
             [
              0.4444444444444444,
              "#bd3786"
             ],
             [
              0.5555555555555556,
              "#d8576b"
             ],
             [
              0.6666666666666666,
              "#ed7953"
             ],
             [
              0.7777777777777778,
              "#fb9f3a"
             ],
             [
              0.8888888888888888,
              "#fdca26"
             ],
             [
              1,
              "#f0f921"
             ]
            ],
            "type": "histogram2d"
           }
          ],
          "histogram2dcontour": [
           {
            "colorbar": {
             "outlinewidth": 0,
             "ticks": ""
            },
            "colorscale": [
             [
              0,
              "#0d0887"
             ],
             [
              0.1111111111111111,
              "#46039f"
             ],
             [
              0.2222222222222222,
              "#7201a8"
             ],
             [
              0.3333333333333333,
              "#9c179e"
             ],
             [
              0.4444444444444444,
              "#bd3786"
             ],
             [
              0.5555555555555556,
              "#d8576b"
             ],
             [
              0.6666666666666666,
              "#ed7953"
             ],
             [
              0.7777777777777778,
              "#fb9f3a"
             ],
             [
              0.8888888888888888,
              "#fdca26"
             ],
             [
              1,
              "#f0f921"
             ]
            ],
            "type": "histogram2dcontour"
           }
          ],
          "mesh3d": [
           {
            "colorbar": {
             "outlinewidth": 0,
             "ticks": ""
            },
            "type": "mesh3d"
           }
          ],
          "parcoords": [
           {
            "line": {
             "colorbar": {
              "outlinewidth": 0,
              "ticks": ""
             }
            },
            "type": "parcoords"
           }
          ],
          "pie": [
           {
            "automargin": true,
            "type": "pie"
           }
          ],
          "scatter": [
           {
            "fillpattern": {
             "fillmode": "overlay",
             "size": 10,
             "solidity": 0.2
            },
            "type": "scatter"
           }
          ],
          "scatter3d": [
           {
            "line": {
             "colorbar": {
              "outlinewidth": 0,
              "ticks": ""
             }
            },
            "marker": {
             "colorbar": {
              "outlinewidth": 0,
              "ticks": ""
             }
            },
            "type": "scatter3d"
           }
          ],
          "scattercarpet": [
           {
            "marker": {
             "colorbar": {
              "outlinewidth": 0,
              "ticks": ""
             }
            },
            "type": "scattercarpet"
           }
          ],
          "scattergeo": [
           {
            "marker": {
             "colorbar": {
              "outlinewidth": 0,
              "ticks": ""
             }
            },
            "type": "scattergeo"
           }
          ],
          "scattergl": [
           {
            "marker": {
             "colorbar": {
              "outlinewidth": 0,
              "ticks": ""
             }
            },
            "type": "scattergl"
           }
          ],
          "scattermapbox": [
           {
            "marker": {
             "colorbar": {
              "outlinewidth": 0,
              "ticks": ""
             }
            },
            "type": "scattermapbox"
           }
          ],
          "scatterpolar": [
           {
            "marker": {
             "colorbar": {
              "outlinewidth": 0,
              "ticks": ""
             }
            },
            "type": "scatterpolar"
           }
          ],
          "scatterpolargl": [
           {
            "marker": {
             "colorbar": {
              "outlinewidth": 0,
              "ticks": ""
             }
            },
            "type": "scatterpolargl"
           }
          ],
          "scatterternary": [
           {
            "marker": {
             "colorbar": {
              "outlinewidth": 0,
              "ticks": ""
             }
            },
            "type": "scatterternary"
           }
          ],
          "surface": [
           {
            "colorbar": {
             "outlinewidth": 0,
             "ticks": ""
            },
            "colorscale": [
             [
              0,
              "#0d0887"
             ],
             [
              0.1111111111111111,
              "#46039f"
             ],
             [
              0.2222222222222222,
              "#7201a8"
             ],
             [
              0.3333333333333333,
              "#9c179e"
             ],
             [
              0.4444444444444444,
              "#bd3786"
             ],
             [
              0.5555555555555556,
              "#d8576b"
             ],
             [
              0.6666666666666666,
              "#ed7953"
             ],
             [
              0.7777777777777778,
              "#fb9f3a"
             ],
             [
              0.8888888888888888,
              "#fdca26"
             ],
             [
              1,
              "#f0f921"
             ]
            ],
            "type": "surface"
           }
          ],
          "table": [
           {
            "cells": {
             "fill": {
              "color": "#EBF0F8"
             },
             "line": {
              "color": "white"
             }
            },
            "header": {
             "fill": {
              "color": "#C8D4E3"
             },
             "line": {
              "color": "white"
             }
            },
            "type": "table"
           }
          ]
         },
         "layout": {
          "annotationdefaults": {
           "arrowcolor": "#2a3f5f",
           "arrowhead": 0,
           "arrowwidth": 1
          },
          "autotypenumbers": "strict",
          "coloraxis": {
           "colorbar": {
            "outlinewidth": 0,
            "ticks": ""
           }
          },
          "colorscale": {
           "diverging": [
            [
             0,
             "#8e0152"
            ],
            [
             0.1,
             "#c51b7d"
            ],
            [
             0.2,
             "#de77ae"
            ],
            [
             0.3,
             "#f1b6da"
            ],
            [
             0.4,
             "#fde0ef"
            ],
            [
             0.5,
             "#f7f7f7"
            ],
            [
             0.6,
             "#e6f5d0"
            ],
            [
             0.7,
             "#b8e186"
            ],
            [
             0.8,
             "#7fbc41"
            ],
            [
             0.9,
             "#4d9221"
            ],
            [
             1,
             "#276419"
            ]
           ],
           "sequential": [
            [
             0,
             "#0d0887"
            ],
            [
             0.1111111111111111,
             "#46039f"
            ],
            [
             0.2222222222222222,
             "#7201a8"
            ],
            [
             0.3333333333333333,
             "#9c179e"
            ],
            [
             0.4444444444444444,
             "#bd3786"
            ],
            [
             0.5555555555555556,
             "#d8576b"
            ],
            [
             0.6666666666666666,
             "#ed7953"
            ],
            [
             0.7777777777777778,
             "#fb9f3a"
            ],
            [
             0.8888888888888888,
             "#fdca26"
            ],
            [
             1,
             "#f0f921"
            ]
           ],
           "sequentialminus": [
            [
             0,
             "#0d0887"
            ],
            [
             0.1111111111111111,
             "#46039f"
            ],
            [
             0.2222222222222222,
             "#7201a8"
            ],
            [
             0.3333333333333333,
             "#9c179e"
            ],
            [
             0.4444444444444444,
             "#bd3786"
            ],
            [
             0.5555555555555556,
             "#d8576b"
            ],
            [
             0.6666666666666666,
             "#ed7953"
            ],
            [
             0.7777777777777778,
             "#fb9f3a"
            ],
            [
             0.8888888888888888,
             "#fdca26"
            ],
            [
             1,
             "#f0f921"
            ]
           ]
          },
          "colorway": [
           "#636efa",
           "#EF553B",
           "#00cc96",
           "#ab63fa",
           "#FFA15A",
           "#19d3f3",
           "#FF6692",
           "#B6E880",
           "#FF97FF",
           "#FECB52"
          ],
          "font": {
           "color": "#2a3f5f"
          },
          "geo": {
           "bgcolor": "white",
           "lakecolor": "white",
           "landcolor": "#E5ECF6",
           "showlakes": true,
           "showland": true,
           "subunitcolor": "white"
          },
          "hoverlabel": {
           "align": "left"
          },
          "hovermode": "closest",
          "mapbox": {
           "style": "light"
          },
          "paper_bgcolor": "white",
          "plot_bgcolor": "#E5ECF6",
          "polar": {
           "angularaxis": {
            "gridcolor": "white",
            "linecolor": "white",
            "ticks": ""
           },
           "bgcolor": "#E5ECF6",
           "radialaxis": {
            "gridcolor": "white",
            "linecolor": "white",
            "ticks": ""
           }
          },
          "scene": {
           "xaxis": {
            "backgroundcolor": "#E5ECF6",
            "gridcolor": "white",
            "gridwidth": 2,
            "linecolor": "white",
            "showbackground": true,
            "ticks": "",
            "zerolinecolor": "white"
           },
           "yaxis": {
            "backgroundcolor": "#E5ECF6",
            "gridcolor": "white",
            "gridwidth": 2,
            "linecolor": "white",
            "showbackground": true,
            "ticks": "",
            "zerolinecolor": "white"
           },
           "zaxis": {
            "backgroundcolor": "#E5ECF6",
            "gridcolor": "white",
            "gridwidth": 2,
            "linecolor": "white",
            "showbackground": true,
            "ticks": "",
            "zerolinecolor": "white"
           }
          },
          "shapedefaults": {
           "line": {
            "color": "#2a3f5f"
           }
          },
          "ternary": {
           "aaxis": {
            "gridcolor": "white",
            "linecolor": "white",
            "ticks": ""
           },
           "baxis": {
            "gridcolor": "white",
            "linecolor": "white",
            "ticks": ""
           },
           "bgcolor": "#E5ECF6",
           "caxis": {
            "gridcolor": "white",
            "linecolor": "white",
            "ticks": ""
           }
          },
          "title": {
           "x": 0.05
          },
          "xaxis": {
           "automargin": true,
           "gridcolor": "white",
           "linecolor": "white",
           "ticks": "",
           "title": {
            "standoff": 15
           },
           "zerolinecolor": "white",
           "zerolinewidth": 2
          },
          "yaxis": {
           "automargin": true,
           "gridcolor": "white",
           "linecolor": "white",
           "ticks": "",
           "title": {
            "standoff": 15
           },
           "zerolinecolor": "white",
           "zerolinewidth": 2
          }
         }
        },
        "title": {
         "text": "Voltage Measured Over Time (Interactive)"
        },
        "xaxis": {
         "anchor": "y",
         "domain": [
          0,
          1
         ],
         "title": {
          "text": "Time"
         }
        },
        "yaxis": {
         "anchor": "x",
         "domain": [
          0,
          1
         ],
         "title": {
          "text": "Voltage_measured"
         }
        }
       }
      },
      "text/html": [
       "<div>                            <div id=\"ac8ad828-9c20-4384-8903-639b3c788cf6\" class=\"plotly-graph-div\" style=\"height:525px; width:100%;\"></div>            <script type=\"text/javascript\">                require([\"plotly\"], function(Plotly) {                    window.PLOTLYENV=window.PLOTLYENV || {};                                    if (document.getElementById(\"ac8ad828-9c20-4384-8903-639b3c788cf6\")) {                    Plotly.newPlot(                        \"ac8ad828-9c20-4384-8903-639b3c788cf6\",                        [{\"hovertemplate\":\"Time=%{x}\\u003cbr\\u003eVoltage_measured=%{y}\\u003cextra\\u003e\\u003c\\u002fextra\\u003e\",\"legendgroup\":\"\",\"line\":{\"color\":\"#636efa\",\"dash\":\"solid\"},\"marker\":{\"symbol\":\"circle\"},\"mode\":\"lines\",\"name\":\"\",\"orientation\":\"v\",\"showlegend\":false,\"x\":[0.0,9.36,23.281,36.406,49.625,62.813,75.89099999999999,89.031,102.141,115.297,128.438,141.578,154.719,167.813,180.906,194.0,207.11,220.219,233.313,246.422,259.547,272.625,285.75,298.86,311.953,325.094,338.172,351.235,364.313,377.406,390.516,403.61,416.688,429.75,442.875,455.922,469.031,482.11,495.235,508.313,521.391,534.469,547.578,560.641,573.719,586.813,599.969,613.078,626.141,639.25,652.36,665.453,678.469,691.594,704.719,717.813,730.906,744.0,757.156,770.235,783.281,796.344,809.406,822.469,835.61,848.719,861.828,874.891,887.969,901.063,914.156,927.281,940.391,953.547,966.594,979.656,992.719,1005.828,1018.953,1032.016,1045.078,1058.188,1071.313,1084.406,1097.563,1110.625,1123.703,1136.781,1149.875,1162.985,1176.047,1189.156,1202.235,1215.328,1228.516,1241.625,1254.75,1267.828,1280.875,1293.922,1307.0,1320.11,1333.188,1346.328,1359.453,1372.5,1385.578,1398.656,1411.735,1424.875,1437.953,1451.063,1464.203,1477.297,1490.406,1503.531,1516.61,1529.656,1542.797,1555.875,1568.938,1582.016,1595.156,1608.203,1621.313,1634.453,1647.531,1660.61,1673.75,1686.813,1699.875,1713.0,1726.11,1739.188,1752.297,1765.438,1778.531,1791.61,1804.766,1817.828,1830.922,1844.078,1857.141,1870.203,1883.391,1896.453,1909.563,1922.625,1935.719,1948.797,1961.922,1975.031,1988.125,2001.219,2014.344,2027.485,2040.594,2053.656,2066.766,2079.922,2092.969,2106.047,2119.219,2132.313,2145.438,2158.531,2171.594,2184.703,2197.766,2210.875,2223.969,2237.047,2250.094,2263.25,2276.391,2289.547,2302.735,2315.781,2328.86,2341.891,2355.0,2368.094,2381.172,2394.219,2407.328,2420.438,2433.531,2446.656,2459.797,2472.875,2485.938,2499.11,2512.235,2525.328,2538.453,2551.563,2564.672,2577.719,2590.813,2603.875,2617.063,2630.156,2643.297,2656.375,2669.469,2682.516,2695.625,2708.719,2721.86,2734.953,2748.047,2761.219,2774.328,2787.453,2800.5,2813.578,2826.656,2839.766,2852.891,2866.0,2879.141,2892.235,2905.422,2918.625,2931.766,2944.844,2957.938,2971.016,2984.156,2997.266,3010.328,3023.469,3036.547,3049.625,3062.719,3075.875,3088.985,3102.156,3115.328,3128.422,3141.485,3154.594,3167.703,3180.844,3193.969,3207.016,3220.11,3233.188,3246.266,3259.344,3272.485,3285.563,3298.735,3311.828,3324.969,3338.125,3351.266,3364.453,3377.625,3390.797,3403.938,3417.078,3430.219,3443.422,3456.594,3469.719,3482.828,3495.922,3509.0,3522.203,3535.344,3548.422,3561.531,3574.625,3587.735,3600.828,3613.922,3627.063,3640.172,3653.281,3666.391,3679.516,3692.656,3705.86,3718.985,3732.094,3745.219,3758.344,3771.516,3784.61,3797.766,3810.891,3824.0,3837.11,3850.156,3863.313,3876.406,3889.594,3902.672,3915.766,3928.891,3941.985,3955.047,3968.141,3981.297,3994.406,4007.563,4020.766,4033.875,4046.985,4060.11,4073.266,4086.328,4099.422,4112.61,4125.703,4138.891,4151.938,4165.078,4178.219,4191.344,4204.453,4217.531,4230.641,4243.75,4256.828,4269.875,4283.047,4296.141,4309.235,4322.36,4335.485,4348.625,4361.86,4375.172,4388.438,4401.75,4414.985,4428.266,4441.5,4454.703,4468.016,4481.25,4494.516,4507.719,4520.938,4534.219,4547.578,4560.797,4574.0,4587.235,4600.469,4613.719,4626.938,4640.203,4653.469,4666.797,4679.985,4693.266,4706.453,4719.703,4732.953,4746.203,4759.469,4772.719,4786.0,4799.25,4812.485,4825.735,4838.922,4852.125,4865.422,4878.672,4891.985,4905.219,4918.453,4931.672,4944.891,4958.125,4971.375,4984.61,4997.844,5011.094,5024.328,5037.61,5050.906,5064.11,5077.328,5090.547,5103.781,5117.031,5130.297,5143.5,5156.735,5169.969,5183.219,5196.516,5209.813,5223.125,5236.344,5249.656,5262.891,5276.141,5289.516,5302.797,5316.078,5329.344,5342.594,5355.844,5369.219,5382.453,5395.688,5408.906,5422.156,5435.391,5448.641,5461.938,5475.172,5488.406,5501.688,5514.953,5528.266,5541.531,5554.766,5568.031,5581.375,5594.594,5607.813,5621.047,5634.297,5647.516,5660.735,5673.969,5687.203,5700.406,5713.688,5726.891,5740.141,5753.344,5766.578,5779.781,5793.0,5806.203,5819.438,5832.688,5845.953,5859.25,5872.453,5885.719,5898.938,5912.172,5925.406,5938.672,5951.938,5965.172,5978.375,5991.672,6004.953,6018.36,6031.735,6045.141,6058.5,6071.906,6085.297,6098.656,6112.047,6125.438,6138.875,6152.281,6165.672,6179.11,6192.656,6206.219,6219.719,6233.266,6246.781,6260.313,6273.781,6287.313,6300.797,6314.297,6327.813,6341.297,6354.906,6368.422,6382.063,6395.547,6409.063,6422.625,6436.141],\"xaxis\":\"x\",\"y\":[4.246711253516259,4.246764125510136,4.039277018171289,4.019506433278611,4.004763260680274,3.992862708424408,3.982346795099297,3.9724578113821183,3.9637400413432737,3.955432272676673,3.947905974663914,3.940774900997409,3.933846618548325,3.9273923546175737,3.9211979790578178,3.915208326950005,3.909650115868643,3.904190136270511,3.898996130971163,3.893760440969397,3.888806462195429,3.884369300425002,3.880096698887316,3.876255755266973,3.872645902645617,3.86915800564983,3.866015371350042,3.862977664836382,3.860406957457223,3.8574103612896185,3.854711367313613,3.8520056988643434,3.8496045007296327,3.847234477772906,3.845001919852917,3.8427341381590816,3.840625625758544,3.838447188776546,3.8364523101357952,3.834430074367508,3.83230302104837,3.830475960945287,3.828399404399783,3.826609993022845,3.8246024143409474,3.822756320577678,3.820908790985978,3.8190957665514342,3.817283113195826,3.8152641791490463,3.813663784877481,3.81170310005412,3.809907427192365,3.807906799195623,3.80611910722536,3.804180801826383,3.8023697972773256,3.800441005029772,3.7986093978653774,3.79659838519063,3.7946730296337594,3.792815863957842,3.790841614490357,3.788828703999225,3.786995486891371,3.7848459916565207,3.782873708848514,3.780848583730336,3.7786938098152176,3.776683536613519,3.774582179077702,3.7723544104300206,3.770197215335677,3.768093671387777,3.765989332306821,3.763990340041013,3.761961219652712,3.759717367935965,3.7577617225027766,3.755571558674588,3.753607860770124,3.7512886322023578,3.749279095316093,3.747002790845624,3.7451682874208494,3.7431259403945343,3.741237509626041,3.7390344660326815,3.73706685877336,3.735033527196567,3.7332197371324503,3.731363881145008,3.729264025285725,3.727398530118085,3.725568492865293,3.723618680964378,3.722012687914933,3.7200796422062696,3.718112634927389,3.7161106537969233,3.7138357695796183,3.711580109590676,3.7088908306616175,3.7064322799997726,3.703725927720317,3.701009577429229,3.6983343324213207,3.695348869714776,3.6925543600194906,3.6896750027953114,3.686627722343095,3.6835363226306255,3.680597147005636,3.6777047804044383,3.674728270103477,3.6719717756443,3.669325574508143,3.6668803845007294,3.664589876961532,3.66259404193973,3.6604347136435247,3.65856435956502,3.656421312553391,3.654683097722957,3.65284206815776,3.65082376795281,3.649270669325941,3.6473633335840794,3.645829033787948,3.643899999619585,3.642440899706927,3.640786936254487,3.639262890456272,3.637602989212976,3.636199151010372,3.634581903513346,3.633074472384529,3.631587442617661,3.630157402732151,3.6289464601105217,3.627445259568148,3.625995843944692,3.6247964335111935,3.623276523942319,3.621871006451532,3.620455027114583,3.61933439182665,3.617924650547357,3.616557328054139,3.615108029741642,3.614014441750432,3.612673145207526,3.611472207668035,3.610250883716974,3.608846264157264,3.607704541232534,3.606397898777781,3.605120792369809,3.60394870804158,3.6027942540656963,3.6015579118413616,3.6003471487832583,3.5990794720698536,3.597894442689749,3.5966577933114543,3.595464034092617,3.594305011457668,3.593076820352917,3.59202884130152,3.5907605470370214,3.589696952364418,3.588587503865808,3.587371044630705,3.586210110146122,3.585018791582806,3.5840171601947794,3.582869298325823,3.5817176068238727,3.5805678869158437,3.579407215339581,3.578299102918556,3.577290689746073,3.576158693517963,3.5750493466998514,3.5739879568534088,3.5729478836086157,3.5718299798606488,3.5709170125543466,3.56961228207256,3.568617068622861,3.5675438453435997,3.566512650570572,3.565596382904656,3.564504287068038,3.5634754003444336,3.5622786555168515,3.5607924718680453,3.5592836865405264,3.557413298793106,3.555665005059582,3.553695453592202,3.5516709298242195,3.549415616584612,3.5474512191230727,3.5452697780172837,3.542892532954708,3.5405729647023354,3.5383409868687274,3.536107816232528,3.5335907686149874,3.5314136887730534,3.529023985739061,3.5267368568115853,3.524721027667165,3.522720675532665,3.52117817983667,3.5194927906893407,3.5181327978753525,3.516606148816905,3.5152393052882887,3.5140180160644707,3.512733621117712,3.5116032930049923,3.510676901411592,3.5094138198142018,3.508582448774273,3.507498912074538,3.5064281400654997,3.505334425369491,3.50454778435222,3.503598149937573,3.502804920612841,3.501878730015512,3.5009717821303985,3.500140524791773,3.499212874266527,3.498516477412692,3.4977376120597645,3.4967819465700187,3.495946248401124,3.495189490388214,3.4945290642245936,3.4936696980341746,3.4930367673667986,3.4923282264992834,3.491563543275591,3.490625992098114,3.489994490717841,3.489338763592346,3.488657802959221,3.48789001240067,3.4873508254141408,3.486454599160414,3.485661118821138,3.4850219534636984,3.4844773236979867,3.483561937366954,3.482921879953037,3.4823155874943046,3.481453243996021,3.4808453458110025,3.4801043082920016,3.4793074004689597,3.478656756818986,3.477944507632085,3.4772719953898124,3.476484234837369,3.475748716014138,3.475040538221428,3.474287621471171,3.4734669648867538,3.4727372610211558,3.47201976831521,3.4711978181913232,3.47047078317791,3.4696718442479586,3.469000094167255,3.468181682116456,3.467381299158696,3.466777146732966,3.4660081456818514,3.4651119040439964,3.464497433780131,3.4635684232925383,3.462814187423905,3.46214272530203,3.461267940764716,3.460682395050646,3.459682485501857,3.458877155773463,3.4580147374837664,3.4573000229394704,3.4566167493283446,3.455509500892453,3.4539955948600243,3.4525420711144035,3.4509984052771165,3.448951191408298,3.4470970180059584,3.4450427756993656,3.4427543858853493,3.440375142090238,3.4380614221175554,3.4356726107968094,3.4330946414015693,3.430388257696568,3.427816729775609,3.425110724059222,3.4223248761751544,3.42006992488101,3.41772003959307,3.415780176838776,3.413945844738231,3.4121715512764936,3.410371586679501,3.408821521105736,3.407045141687982,3.405573829801681,3.403963245374781,3.4026995297336065,3.4012288499984384,3.399836975056,3.398648428300032,3.397529930396105,3.3962164086861817,3.394770379004634,3.393724948549766,3.392274523561809,3.39111672593359,3.3899532946402653,3.3883933066016403,3.3875257672228245,3.386219477067292,3.384998748354783,3.383618764190488,3.3824072513729484,3.381262884828034,3.380052322554357,3.378846937531732,3.377598277915228,3.376300113346357,3.3750639655760013,3.373951183523049,3.3726802546067054,3.3713763263024044,3.3700680129198,3.368914752833561,3.367606248720394,3.366343440698901,3.3648625929538123,3.3634073849939106,3.362040166337937,3.3606768344867635,3.359175580050265,3.357687888333479,3.356351454057462,3.354768698040336,3.353080488901673,3.351539152173533,3.3501445709661226,3.348511807720953,3.346940626537693,3.345402952182305,3.343717506023549,3.3419918970059226,3.340198563060068,3.338223209606903,3.3365835345759205,3.335109499518284,3.333191516863278,3.331479794454772,3.329512307229761,3.3275279192582565,3.325828116597998,3.3238964650887235,3.3216836950110897,3.3196939591176795,3.31758091531066,3.3154325890115723,3.313360051140094,3.311165032975942,3.308974471473522,3.306806549355666,3.304466427881505,3.3022418939529774,3.299827992975363,3.297457816243593,3.2946615178424774,3.2915688058630304,3.287957250700658,3.284197374401378,3.2799764115244545,3.275737954171668,3.2709358839556115,3.2661698943161435,3.261299135939609,3.2559893616058466,3.250608240759355,3.244985479757389,3.239320278207168,3.2335001156461747,3.2276694558380865,3.221682761826305,3.216138187725933,3.210649741962537,3.2054349879960062,3.20029199028384,3.195219948100102,3.190259609219229,3.1850816758708627,3.1801293618675808,3.175236869422581,3.1704853408425357,3.1654282724755256,3.1603680933530773,3.155139981910372,3.149965619193311,3.1448203538931594,3.139252195094655,3.1339874700643064,3.128410378384067,3.122950251416708,3.117213574056475,3.1115121467583324,3.1054193111437853,3.099286633745663,3.093125123641961,3.086741856287959,3.0803739270748363,3.0738057209079237,3.066985494143711,3.060191477019926,3.053148253866842,3.046044672259406,3.0384601146961097,3.031002859512311,3.023111709252777,3.015191693115315,3.007012012788133,2.998243877368653,2.98975859945416,2.9805995441728186,2.971227655824078,2.9615583985163454,2.9515542662640546,2.9413454877307394,2.930887417486187,2.919961192798961,2.908525386260133,2.8966305842345883,2.88431862610664,2.871468347292039,2.858615404157315,2.8446134055961525,2.8304173356014126,2.815465595690097,2.8000501106517506,2.7837035991367194,2.7665057088116223,2.7486582443839778,2.729931966923743,2.710132038595064,2.689299531209884,2.667439028940069,2.6440673622686925,2.619395340593058,2.593520084646253,2.5656125249554345,2.536252808380642,2.5046693818677896,2.470611866932728,2.942942295533995,3.050193702611824,3.1009749147863395,3.1368929085286044,3.165273105267426,3.1887276469994426,3.2089500307053105,3.2263900807381574,3.2415803806092183,3.2546672739968203,3.2663164239224387,3.2769597512712325,3.286418164397646,3.2951675537404728,3.303251450052504,3.310303420220758,3.317351265801437,3.323386670984553,3.329356483961897],\"yaxis\":\"y\",\"type\":\"scatter\"}],                        {\"template\":{\"data\":{\"histogram2dcontour\":[{\"type\":\"histogram2dcontour\",\"colorbar\":{\"outlinewidth\":0,\"ticks\":\"\"},\"colorscale\":[[0.0,\"#0d0887\"],[0.1111111111111111,\"#46039f\"],[0.2222222222222222,\"#7201a8\"],[0.3333333333333333,\"#9c179e\"],[0.4444444444444444,\"#bd3786\"],[0.5555555555555556,\"#d8576b\"],[0.6666666666666666,\"#ed7953\"],[0.7777777777777778,\"#fb9f3a\"],[0.8888888888888888,\"#fdca26\"],[1.0,\"#f0f921\"]]}],\"choropleth\":[{\"type\":\"choropleth\",\"colorbar\":{\"outlinewidth\":0,\"ticks\":\"\"}}],\"histogram2d\":[{\"type\":\"histogram2d\",\"colorbar\":{\"outlinewidth\":0,\"ticks\":\"\"},\"colorscale\":[[0.0,\"#0d0887\"],[0.1111111111111111,\"#46039f\"],[0.2222222222222222,\"#7201a8\"],[0.3333333333333333,\"#9c179e\"],[0.4444444444444444,\"#bd3786\"],[0.5555555555555556,\"#d8576b\"],[0.6666666666666666,\"#ed7953\"],[0.7777777777777778,\"#fb9f3a\"],[0.8888888888888888,\"#fdca26\"],[1.0,\"#f0f921\"]]}],\"heatmap\":[{\"type\":\"heatmap\",\"colorbar\":{\"outlinewidth\":0,\"ticks\":\"\"},\"colorscale\":[[0.0,\"#0d0887\"],[0.1111111111111111,\"#46039f\"],[0.2222222222222222,\"#7201a8\"],[0.3333333333333333,\"#9c179e\"],[0.4444444444444444,\"#bd3786\"],[0.5555555555555556,\"#d8576b\"],[0.6666666666666666,\"#ed7953\"],[0.7777777777777778,\"#fb9f3a\"],[0.8888888888888888,\"#fdca26\"],[1.0,\"#f0f921\"]]}],\"heatmapgl\":[{\"type\":\"heatmapgl\",\"colorbar\":{\"outlinewidth\":0,\"ticks\":\"\"},\"colorscale\":[[0.0,\"#0d0887\"],[0.1111111111111111,\"#46039f\"],[0.2222222222222222,\"#7201a8\"],[0.3333333333333333,\"#9c179e\"],[0.4444444444444444,\"#bd3786\"],[0.5555555555555556,\"#d8576b\"],[0.6666666666666666,\"#ed7953\"],[0.7777777777777778,\"#fb9f3a\"],[0.8888888888888888,\"#fdca26\"],[1.0,\"#f0f921\"]]}],\"contourcarpet\":[{\"type\":\"contourcarpet\",\"colorbar\":{\"outlinewidth\":0,\"ticks\":\"\"}}],\"contour\":[{\"type\":\"contour\",\"colorbar\":{\"outlinewidth\":0,\"ticks\":\"\"},\"colorscale\":[[0.0,\"#0d0887\"],[0.1111111111111111,\"#46039f\"],[0.2222222222222222,\"#7201a8\"],[0.3333333333333333,\"#9c179e\"],[0.4444444444444444,\"#bd3786\"],[0.5555555555555556,\"#d8576b\"],[0.6666666666666666,\"#ed7953\"],[0.7777777777777778,\"#fb9f3a\"],[0.8888888888888888,\"#fdca26\"],[1.0,\"#f0f921\"]]}],\"surface\":[{\"type\":\"surface\",\"colorbar\":{\"outlinewidth\":0,\"ticks\":\"\"},\"colorscale\":[[0.0,\"#0d0887\"],[0.1111111111111111,\"#46039f\"],[0.2222222222222222,\"#7201a8\"],[0.3333333333333333,\"#9c179e\"],[0.4444444444444444,\"#bd3786\"],[0.5555555555555556,\"#d8576b\"],[0.6666666666666666,\"#ed7953\"],[0.7777777777777778,\"#fb9f3a\"],[0.8888888888888888,\"#fdca26\"],[1.0,\"#f0f921\"]]}],\"mesh3d\":[{\"type\":\"mesh3d\",\"colorbar\":{\"outlinewidth\":0,\"ticks\":\"\"}}],\"scatter\":[{\"fillpattern\":{\"fillmode\":\"overlay\",\"size\":10,\"solidity\":0.2},\"type\":\"scatter\"}],\"parcoords\":[{\"type\":\"parcoords\",\"line\":{\"colorbar\":{\"outlinewidth\":0,\"ticks\":\"\"}}}],\"scatterpolargl\":[{\"type\":\"scatterpolargl\",\"marker\":{\"colorbar\":{\"outlinewidth\":0,\"ticks\":\"\"}}}],\"bar\":[{\"error_x\":{\"color\":\"#2a3f5f\"},\"error_y\":{\"color\":\"#2a3f5f\"},\"marker\":{\"line\":{\"color\":\"#E5ECF6\",\"width\":0.5},\"pattern\":{\"fillmode\":\"overlay\",\"size\":10,\"solidity\":0.2}},\"type\":\"bar\"}],\"scattergeo\":[{\"type\":\"scattergeo\",\"marker\":{\"colorbar\":{\"outlinewidth\":0,\"ticks\":\"\"}}}],\"scatterpolar\":[{\"type\":\"scatterpolar\",\"marker\":{\"colorbar\":{\"outlinewidth\":0,\"ticks\":\"\"}}}],\"histogram\":[{\"marker\":{\"pattern\":{\"fillmode\":\"overlay\",\"size\":10,\"solidity\":0.2}},\"type\":\"histogram\"}],\"scattergl\":[{\"type\":\"scattergl\",\"marker\":{\"colorbar\":{\"outlinewidth\":0,\"ticks\":\"\"}}}],\"scatter3d\":[{\"type\":\"scatter3d\",\"line\":{\"colorbar\":{\"outlinewidth\":0,\"ticks\":\"\"}},\"marker\":{\"colorbar\":{\"outlinewidth\":0,\"ticks\":\"\"}}}],\"scattermapbox\":[{\"type\":\"scattermapbox\",\"marker\":{\"colorbar\":{\"outlinewidth\":0,\"ticks\":\"\"}}}],\"scatterternary\":[{\"type\":\"scatterternary\",\"marker\":{\"colorbar\":{\"outlinewidth\":0,\"ticks\":\"\"}}}],\"scattercarpet\":[{\"type\":\"scattercarpet\",\"marker\":{\"colorbar\":{\"outlinewidth\":0,\"ticks\":\"\"}}}],\"carpet\":[{\"aaxis\":{\"endlinecolor\":\"#2a3f5f\",\"gridcolor\":\"white\",\"linecolor\":\"white\",\"minorgridcolor\":\"white\",\"startlinecolor\":\"#2a3f5f\"},\"baxis\":{\"endlinecolor\":\"#2a3f5f\",\"gridcolor\":\"white\",\"linecolor\":\"white\",\"minorgridcolor\":\"white\",\"startlinecolor\":\"#2a3f5f\"},\"type\":\"carpet\"}],\"table\":[{\"cells\":{\"fill\":{\"color\":\"#EBF0F8\"},\"line\":{\"color\":\"white\"}},\"header\":{\"fill\":{\"color\":\"#C8D4E3\"},\"line\":{\"color\":\"white\"}},\"type\":\"table\"}],\"barpolar\":[{\"marker\":{\"line\":{\"color\":\"#E5ECF6\",\"width\":0.5},\"pattern\":{\"fillmode\":\"overlay\",\"size\":10,\"solidity\":0.2}},\"type\":\"barpolar\"}],\"pie\":[{\"automargin\":true,\"type\":\"pie\"}]},\"layout\":{\"autotypenumbers\":\"strict\",\"colorway\":[\"#636efa\",\"#EF553B\",\"#00cc96\",\"#ab63fa\",\"#FFA15A\",\"#19d3f3\",\"#FF6692\",\"#B6E880\",\"#FF97FF\",\"#FECB52\"],\"font\":{\"color\":\"#2a3f5f\"},\"hovermode\":\"closest\",\"hoverlabel\":{\"align\":\"left\"},\"paper_bgcolor\":\"white\",\"plot_bgcolor\":\"#E5ECF6\",\"polar\":{\"bgcolor\":\"#E5ECF6\",\"angularaxis\":{\"gridcolor\":\"white\",\"linecolor\":\"white\",\"ticks\":\"\"},\"radialaxis\":{\"gridcolor\":\"white\",\"linecolor\":\"white\",\"ticks\":\"\"}},\"ternary\":{\"bgcolor\":\"#E5ECF6\",\"aaxis\":{\"gridcolor\":\"white\",\"linecolor\":\"white\",\"ticks\":\"\"},\"baxis\":{\"gridcolor\":\"white\",\"linecolor\":\"white\",\"ticks\":\"\"},\"caxis\":{\"gridcolor\":\"white\",\"linecolor\":\"white\",\"ticks\":\"\"}},\"coloraxis\":{\"colorbar\":{\"outlinewidth\":0,\"ticks\":\"\"}},\"colorscale\":{\"sequential\":[[0.0,\"#0d0887\"],[0.1111111111111111,\"#46039f\"],[0.2222222222222222,\"#7201a8\"],[0.3333333333333333,\"#9c179e\"],[0.4444444444444444,\"#bd3786\"],[0.5555555555555556,\"#d8576b\"],[0.6666666666666666,\"#ed7953\"],[0.7777777777777778,\"#fb9f3a\"],[0.8888888888888888,\"#fdca26\"],[1.0,\"#f0f921\"]],\"sequentialminus\":[[0.0,\"#0d0887\"],[0.1111111111111111,\"#46039f\"],[0.2222222222222222,\"#7201a8\"],[0.3333333333333333,\"#9c179e\"],[0.4444444444444444,\"#bd3786\"],[0.5555555555555556,\"#d8576b\"],[0.6666666666666666,\"#ed7953\"],[0.7777777777777778,\"#fb9f3a\"],[0.8888888888888888,\"#fdca26\"],[1.0,\"#f0f921\"]],\"diverging\":[[0,\"#8e0152\"],[0.1,\"#c51b7d\"],[0.2,\"#de77ae\"],[0.3,\"#f1b6da\"],[0.4,\"#fde0ef\"],[0.5,\"#f7f7f7\"],[0.6,\"#e6f5d0\"],[0.7,\"#b8e186\"],[0.8,\"#7fbc41\"],[0.9,\"#4d9221\"],[1,\"#276419\"]]},\"xaxis\":{\"gridcolor\":\"white\",\"linecolor\":\"white\",\"ticks\":\"\",\"title\":{\"standoff\":15},\"zerolinecolor\":\"white\",\"automargin\":true,\"zerolinewidth\":2},\"yaxis\":{\"gridcolor\":\"white\",\"linecolor\":\"white\",\"ticks\":\"\",\"title\":{\"standoff\":15},\"zerolinecolor\":\"white\",\"automargin\":true,\"zerolinewidth\":2},\"scene\":{\"xaxis\":{\"backgroundcolor\":\"#E5ECF6\",\"gridcolor\":\"white\",\"linecolor\":\"white\",\"showbackground\":true,\"ticks\":\"\",\"zerolinecolor\":\"white\",\"gridwidth\":2},\"yaxis\":{\"backgroundcolor\":\"#E5ECF6\",\"gridcolor\":\"white\",\"linecolor\":\"white\",\"showbackground\":true,\"ticks\":\"\",\"zerolinecolor\":\"white\",\"gridwidth\":2},\"zaxis\":{\"backgroundcolor\":\"#E5ECF6\",\"gridcolor\":\"white\",\"linecolor\":\"white\",\"showbackground\":true,\"ticks\":\"\",\"zerolinecolor\":\"white\",\"gridwidth\":2}},\"shapedefaults\":{\"line\":{\"color\":\"#2a3f5f\"}},\"annotationdefaults\":{\"arrowcolor\":\"#2a3f5f\",\"arrowhead\":0,\"arrowwidth\":1},\"geo\":{\"bgcolor\":\"white\",\"landcolor\":\"#E5ECF6\",\"subunitcolor\":\"white\",\"showland\":true,\"showlakes\":true,\"lakecolor\":\"white\"},\"title\":{\"x\":0.05},\"mapbox\":{\"style\":\"light\"}}},\"xaxis\":{\"anchor\":\"y\",\"domain\":[0.0,1.0],\"title\":{\"text\":\"Time\"}},\"yaxis\":{\"anchor\":\"x\",\"domain\":[0.0,1.0],\"title\":{\"text\":\"Voltage_measured\"}},\"legend\":{\"tracegroupgap\":0},\"title\":{\"text\":\"Voltage Measured Over Time (Interactive)\"}},                        {\"responsive\": true}                    ).then(function(){\n",
       "                            \n",
       "var gd = document.getElementById('ac8ad828-9c20-4384-8903-639b3c788cf6');\n",
       "var x = new MutationObserver(function (mutations, observer) {{\n",
       "        var display = window.getComputedStyle(gd).display;\n",
       "        if (!display || display === 'none') {{\n",
       "            console.log([gd, 'removed!']);\n",
       "            Plotly.purge(gd);\n",
       "            observer.disconnect();\n",
       "        }}\n",
       "}});\n",
       "\n",
       "// Listen for the removal of the full notebook cells\n",
       "var notebookContainer = gd.closest('#notebook-container');\n",
       "if (notebookContainer) {{\n",
       "    x.observe(notebookContainer, {childList: true});\n",
       "}}\n",
       "\n",
       "// Listen for the clearing of the current output cell\n",
       "var outputEl = gd.closest('.output');\n",
       "if (outputEl) {{\n",
       "    x.observe(outputEl, {childList: true});\n",
       "}}\n",
       "\n",
       "                        })                };                });            </script>        </div>"
      ]
     },
     "metadata": {},
     "output_type": "display_data"
    }
   ],
   "source": [
    "# Step 6: Using Plotly for interactive plots\n",
    "fig = px.line(\n",
    "    sample_data,\n",
    "    x=\"Time\",\n",
    "    y=\"Voltage_measured\",\n",
    "    title=\"Voltage Measured Over Time (Interactive)\"\n",
    ")\n",
    "fig.show()"
   ]
  },
  {
   "cell_type": "code",
   "execution_count": 34,
   "metadata": {},
   "outputs": [
    {
     "name": "stdout",
     "output_type": "stream",
     "text": [
      "Metadata Missing Values:\n",
      "type                      0\n",
      "start_time                0\n",
      "ambient_temperature       0\n",
      "battery_id                0\n",
      "test_id                   0\n",
      "uid                       0\n",
      "filename                  0\n",
      "Capacity               4771\n",
      "Re                     5609\n",
      "Rct                    5609\n",
      "dtype: int64\n"
     ]
    }
   ],
   "source": [
    "# Step 7: Check for missing values\n",
    "print(\"Metadata Missing Values:\")\n",
    "print(metadata.isnull().sum())"
   ]
  },
  {
   "cell_type": "code",
   "execution_count": 35,
   "metadata": {},
   "outputs": [
    {
     "name": "stdout",
     "output_type": "stream",
     "text": [
      "Sample Data Missing Values:\n",
      "Voltage_measured        0\n",
      "Current_measured        0\n",
      "Temperature_measured    0\n",
      "Current_load            0\n",
      "Voltage_load            0\n",
      "Time                    0\n",
      "dtype: int64\n"
     ]
    }
   ],
   "source": [
    "print(\"Sample Data Missing Values:\")\n",
    "print(sample_data.isnull().sum())"
   ]
  },
  {
   "cell_type": "code",
   "execution_count": 36,
   "metadata": {},
   "outputs": [
    {
     "data": {
      "image/png": "[encoded data removed]",
      "text/plain": [
       "<Figure size 640x480 with 2 Axes>"
      ]
     },
     "metadata": {},
     "output_type": "display_data"
    }
   ],
   "source": [
    "# Step 8: Correlation analysis in sample data\n",
    "correlation_matrix = sample_data.corr()\n",
    "sns.heatmap(correlation_matrix, annot=True, cmap=\"coolwarm\")\n",
    "plt.title(\"Correlation Matrix (Sample CSV)\")\n",
    "plt.show()"
   ]
  },
  {
   "cell_type": "code",
   "execution_count": null,
   "metadata": {},
   "outputs": [],
   "source": [
    "# Step 9: Combine metadata with CSV data (Example)\n",
    "merged_data = sample_data.copy()\n",
    "for col in [\"type\", \"start_time\", \"ambient_temperature\", \"battery_id\", \"test_id\", \"uid\", \"Capacity\", \"Re\", \"Rct\"]:\n",
    "    merged_data[col] = metadata.loc[metadata[\"filename\"] == os.path.basename(sample_file), col].values[0]"
   ]
  },
  {
   "cell_type": "code",
   "execution_count": 38,
   "metadata": {},
   "outputs": [
    {
     "name": "stdout",
     "output_type": "stream",
     "text": [
      "Merged Data:\n",
      "   Voltage_measured  Current_measured  Temperature_measured  Current_load  \\\n",
      "0          4.246711          0.000252              6.212696        0.0002   \n",
      "1          4.246764         -0.001411              6.234019        0.0002   \n",
      "2          4.039277         -0.995093              6.250255        1.0000   \n",
      "3          4.019506         -0.996731              6.302176        1.0000   \n",
      "4          4.004763         -0.992845              6.361645        1.0000   \n",
      "\n",
      "   Voltage_load    Time       type  \\\n",
      "0         0.000   0.000  discharge   \n",
      "1         4.262   9.360  discharge   \n",
      "2         3.465  23.281  discharge   \n",
      "3         3.451  36.406  discharge   \n",
      "4         3.438  49.625  discharge   \n",
      "\n",
      "                                          start_time  ambient_temperature  \\\n",
      "0  [2010.       7.      21.      15.       0.    ...                    4   \n",
      "1  [2010.       7.      21.      15.       0.    ...                    4   \n",
      "2  [2010.       7.      21.      15.       0.    ...                    4   \n",
      "3  [2010.       7.      21.      15.       0.    ...                    4   \n",
      "4  [2010.       7.      21.      15.       0.    ...                    4   \n",
      "\n",
      "  battery_id  test_id  uid            Capacity  Re  Rct  \n",
      "0      B0047        0    1  1.6743047446975208 NaN  NaN  \n",
      "1      B0047        0    1  1.6743047446975208 NaN  NaN  \n",
      "2      B0047        0    1  1.6743047446975208 NaN  NaN  \n",
      "3      B0047        0    1  1.6743047446975208 NaN  NaN  \n",
      "4      B0047        0    1  1.6743047446975208 NaN  NaN  \n"
     ]
    }
   ],
   "source": [
    "print(\"Merged Data:\")\n",
    "print(merged_data.head())"
   ]
  },
  {
   "cell_type": "code",
   "execution_count": 39,
   "metadata": {},
   "outputs": [
    {
     "data": {
      "image/png": "[encoded data removed]",
      "text/plain": [
       "<Figure size 1000x600 with 1 Axes>"
      ]
     },
     "metadata": {},
     "output_type": "display_data"
    }
   ],
   "source": [
    "# Step 10: Insights\n",
    "plt.figure(figsize=(10, 6))\n",
    "sns.lineplot(x=\"Time\", y=\"Re\", data=merged_data, label=\"Re (Ohms)\")\n",
    "sns.lineplot(x=\"Time\", y=\"Rct\", data=merged_data, label=\"Rct (Ohms)\")\n",
    "plt.title(\"Re and Rct Trends Over Time (Sample)\")\n",
    "plt.xlabel(\"Time (s)\")\n",
    "plt.ylabel(\"Resistance (Ohms)\")\n",
    "plt.legend()\n",
    "plt.show()"
   ]
  }
 ],
 "metadata": {
  "kernelspec": {
   "display_name": "Python 3",
   "language": "python",
   "name": "python3"
  },
  "language_info": {
   "codemirror_mode": {
    "name": "ipython",
    "version": 3
   },
   "file_extension": ".py",
   "mimetype": "text/x-python",
   "name": "python",
   "nbconvert_exporter": "python",
   "pygments_lexer": "ipython3",
   "version": "3.12.3"
  }
 },
 "nbformat": 4,
 "nbformat_minor": 2
}
